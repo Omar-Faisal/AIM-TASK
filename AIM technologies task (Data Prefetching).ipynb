{
 "cells": [
  {
   "cell_type": "code",
   "execution_count": 1,
   "metadata": {},
   "outputs": [],
   "source": [
    "import pandas as pd\n",
    "import numpy as np\n",
    "import matplotlib.pyplot as plt"
   ]
  },
  {
   "cell_type": "code",
   "execution_count": 2,
   "metadata": {},
   "outputs": [
    {
     "name": "stdout",
     "output_type": "stream",
     "text": [
      "458197\n"
     ]
    }
   ],
   "source": [
    "Data= pd.read_csv('dialect_dataset.csv')\n",
    "print(len(Data))"
   ]
  },
  {
   "cell_type": "code",
   "execution_count": 3,
   "metadata": {},
   "outputs": [
    {
     "data": {
      "text/html": [
       "<div>\n",
       "<style scoped>\n",
       "    .dataframe tbody tr th:only-of-type {\n",
       "        vertical-align: middle;\n",
       "    }\n",
       "\n",
       "    .dataframe tbody tr th {\n",
       "        vertical-align: top;\n",
       "    }\n",
       "\n",
       "    .dataframe thead th {\n",
       "        text-align: right;\n",
       "    }\n",
       "</style>\n",
       "<table border=\"1\" class=\"dataframe\">\n",
       "  <thead>\n",
       "    <tr style=\"text-align: right;\">\n",
       "      <th></th>\n",
       "      <th>id</th>\n",
       "      <th>dialect</th>\n",
       "    </tr>\n",
       "  </thead>\n",
       "  <tbody>\n",
       "    <tr>\n",
       "      <th>0</th>\n",
       "      <td>1175358310087892992</td>\n",
       "      <td>IQ</td>\n",
       "    </tr>\n",
       "    <tr>\n",
       "      <th>1</th>\n",
       "      <td>1175416117793349632</td>\n",
       "      <td>IQ</td>\n",
       "    </tr>\n",
       "    <tr>\n",
       "      <th>2</th>\n",
       "      <td>1175450108898565888</td>\n",
       "      <td>IQ</td>\n",
       "    </tr>\n",
       "    <tr>\n",
       "      <th>3</th>\n",
       "      <td>1175471073770573824</td>\n",
       "      <td>IQ</td>\n",
       "    </tr>\n",
       "    <tr>\n",
       "      <th>4</th>\n",
       "      <td>1175496913145217024</td>\n",
       "      <td>IQ</td>\n",
       "    </tr>\n",
       "  </tbody>\n",
       "</table>\n",
       "</div>"
      ],
      "text/plain": [
       "                    id dialect\n",
       "0  1175358310087892992      IQ\n",
       "1  1175416117793349632      IQ\n",
       "2  1175450108898565888      IQ\n",
       "3  1175471073770573824      IQ\n",
       "4  1175496913145217024      IQ"
      ]
     },
     "execution_count": 3,
     "metadata": {},
     "output_type": "execute_result"
    }
   ],
   "source": [
    "Data.head()"
   ]
  },
  {
   "cell_type": "code",
   "execution_count": 4,
   "metadata": {},
   "outputs": [
    {
     "data": {
      "text/html": [
       "<div>\n",
       "<style scoped>\n",
       "    .dataframe tbody tr th:only-of-type {\n",
       "        vertical-align: middle;\n",
       "    }\n",
       "\n",
       "    .dataframe tbody tr th {\n",
       "        vertical-align: top;\n",
       "    }\n",
       "\n",
       "    .dataframe thead th {\n",
       "        text-align: right;\n",
       "    }\n",
       "</style>\n",
       "<table border=\"1\" class=\"dataframe\">\n",
       "  <thead>\n",
       "    <tr style=\"text-align: right;\">\n",
       "      <th></th>\n",
       "      <th>id</th>\n",
       "    </tr>\n",
       "    <tr>\n",
       "      <th>dialect</th>\n",
       "      <th></th>\n",
       "    </tr>\n",
       "  </thead>\n",
       "  <tbody>\n",
       "    <tr>\n",
       "      <th>AE</th>\n",
       "      <td>26296</td>\n",
       "    </tr>\n",
       "    <tr>\n",
       "      <th>BH</th>\n",
       "      <td>26292</td>\n",
       "    </tr>\n",
       "    <tr>\n",
       "      <th>DZ</th>\n",
       "      <td>16183</td>\n",
       "    </tr>\n",
       "    <tr>\n",
       "      <th>EG</th>\n",
       "      <td>57636</td>\n",
       "    </tr>\n",
       "    <tr>\n",
       "      <th>IQ</th>\n",
       "      <td>15497</td>\n",
       "    </tr>\n",
       "    <tr>\n",
       "      <th>JO</th>\n",
       "      <td>27921</td>\n",
       "    </tr>\n",
       "    <tr>\n",
       "      <th>KW</th>\n",
       "      <td>42109</td>\n",
       "    </tr>\n",
       "    <tr>\n",
       "      <th>LB</th>\n",
       "      <td>27617</td>\n",
       "    </tr>\n",
       "    <tr>\n",
       "      <th>LY</th>\n",
       "      <td>36499</td>\n",
       "    </tr>\n",
       "    <tr>\n",
       "      <th>MA</th>\n",
       "      <td>11539</td>\n",
       "    </tr>\n",
       "    <tr>\n",
       "      <th>OM</th>\n",
       "      <td>19116</td>\n",
       "    </tr>\n",
       "    <tr>\n",
       "      <th>PL</th>\n",
       "      <td>43742</td>\n",
       "    </tr>\n",
       "    <tr>\n",
       "      <th>QA</th>\n",
       "      <td>31069</td>\n",
       "    </tr>\n",
       "    <tr>\n",
       "      <th>SA</th>\n",
       "      <td>26832</td>\n",
       "    </tr>\n",
       "    <tr>\n",
       "      <th>SD</th>\n",
       "      <td>14434</td>\n",
       "    </tr>\n",
       "    <tr>\n",
       "      <th>SY</th>\n",
       "      <td>16242</td>\n",
       "    </tr>\n",
       "    <tr>\n",
       "      <th>TN</th>\n",
       "      <td>9246</td>\n",
       "    </tr>\n",
       "    <tr>\n",
       "      <th>YE</th>\n",
       "      <td>9927</td>\n",
       "    </tr>\n",
       "  </tbody>\n",
       "</table>\n",
       "</div>"
      ],
      "text/plain": [
       "            id\n",
       "dialect       \n",
       "AE       26296\n",
       "BH       26292\n",
       "DZ       16183\n",
       "EG       57636\n",
       "IQ       15497\n",
       "JO       27921\n",
       "KW       42109\n",
       "LB       27617\n",
       "LY       36499\n",
       "MA       11539\n",
       "OM       19116\n",
       "PL       43742\n",
       "QA       31069\n",
       "SA       26832\n",
       "SD       14434\n",
       "SY       16242\n",
       "TN        9246\n",
       "YE        9927"
      ]
     },
     "execution_count": 4,
     "metadata": {},
     "output_type": "execute_result"
    }
   ],
   "source": [
    "#Exploring how many samples provided for each dialect\n",
    "Data_distribution=pd.DataFrame(Data.groupby('dialect').id.nunique())\n",
    "Data_distribution"
   ]
  },
  {
   "cell_type": "code",
   "execution_count": 5,
   "metadata": {},
   "outputs": [
    {
     "data": {
      "text/plain": [
       "<AxesSubplot:title={'center':'Dialect samples distribution'}, xlabel='dialect'>"
      ]
     },
     "execution_count": 5,
     "metadata": {},
     "output_type": "execute_result"
    },
    {
     "data": {
      "image/png": "[encoded data removed]",
      "text/plain": [
       "<Figure size 1080x360 with 1 Axes>"
      ]
     },
     "metadata": {
      "needs_background": "light"
     },
     "output_type": "display_data"
    }
   ],
   "source": [
    "Data_distribution.plot.bar(rot=0,figsize=(15,5),title=\"Dialect samples distribution\")"
   ]
  },
  {
   "cell_type": "code",
   "execution_count": 6,
   "metadata": {},
   "outputs": [
    {
     "data": {
      "text/html": [
       "<div>\n",
       "<style scoped>\n",
       "    .dataframe tbody tr th:only-of-type {\n",
       "        vertical-align: middle;\n",
       "    }\n",
       "\n",
       "    .dataframe tbody tr th {\n",
       "        vertical-align: top;\n",
       "    }\n",
       "\n",
       "    .dataframe thead th {\n",
       "        text-align: right;\n",
       "    }\n",
       "</style>\n",
       "<table border=\"1\" class=\"dataframe\">\n",
       "  <thead>\n",
       "    <tr style=\"text-align: right;\">\n",
       "      <th></th>\n",
       "      <th>dialect</th>\n",
       "      <th>id</th>\n",
       "    </tr>\n",
       "  </thead>\n",
       "  <tbody>\n",
       "    <tr>\n",
       "      <th>0</th>\n",
       "      <td>AE</td>\n",
       "      <td>1042813539512197248</td>\n",
       "    </tr>\n",
       "    <tr>\n",
       "      <th>1</th>\n",
       "      <td>AE</td>\n",
       "      <td>1043194042832613376</td>\n",
       "    </tr>\n",
       "    <tr>\n",
       "      <th>2</th>\n",
       "      <td>AE</td>\n",
       "      <td>1043227308470009984</td>\n",
       "    </tr>\n",
       "    <tr>\n",
       "      <th>3</th>\n",
       "      <td>AE</td>\n",
       "      <td>1045763660201758848</td>\n",
       "    </tr>\n",
       "    <tr>\n",
       "      <th>4</th>\n",
       "      <td>AE</td>\n",
       "      <td>1045774056476340224</td>\n",
       "    </tr>\n",
       "    <tr>\n",
       "      <th>...</th>\n",
       "      <td>...</td>\n",
       "      <td>...</td>\n",
       "    </tr>\n",
       "    <tr>\n",
       "      <th>165595</th>\n",
       "      <td>YE</td>\n",
       "      <td>1093289357631475584</td>\n",
       "    </tr>\n",
       "    <tr>\n",
       "      <th>165596</th>\n",
       "      <td>YE</td>\n",
       "      <td>1093831279936790400</td>\n",
       "    </tr>\n",
       "    <tr>\n",
       "      <th>165597</th>\n",
       "      <td>YE</td>\n",
       "      <td>1095267466048098432</td>\n",
       "    </tr>\n",
       "    <tr>\n",
       "      <th>165598</th>\n",
       "      <td>YE</td>\n",
       "      <td>1096095671147511808</td>\n",
       "    </tr>\n",
       "    <tr>\n",
       "      <th>165599</th>\n",
       "      <td>YE</td>\n",
       "      <td>1096144105950904448</td>\n",
       "    </tr>\n",
       "  </tbody>\n",
       "</table>\n",
       "<p>165600 rows × 2 columns</p>\n",
       "</div>"
      ],
      "text/plain": [
       "       dialect                   id\n",
       "0           AE  1042813539512197248\n",
       "1           AE  1043194042832613376\n",
       "2           AE  1043227308470009984\n",
       "3           AE  1045763660201758848\n",
       "4           AE  1045774056476340224\n",
       "...        ...                  ...\n",
       "165595      YE  1093289357631475584\n",
       "165596      YE  1093831279936790400\n",
       "165597      YE  1095267466048098432\n",
       "165598      YE  1096095671147511808\n",
       "165599      YE  1096144105950904448\n",
       "\n",
       "[165600 rows x 2 columns]"
      ]
     },
     "execution_count": 6,
     "metadata": {},
     "output_type": "execute_result"
    }
   ],
   "source": [
    "labels=np.unique(Data.dialect)\n",
    "New_dataset=pd.DataFrame()\n",
    "for i in labels:\n",
    "  imm=Data.loc[Data['dialect'] == i , ['dialect', 'id']].head(9200) # I selected 9200 sample for each dialect\n",
    "  New_dataset=New_dataset.append(imm)\n",
    "New_dataset.reset_index().drop(\"index\",axis=1)"
   ]
  },
  {
   "cell_type": "code",
   "execution_count": 7,
   "metadata": {},
   "outputs": [
    {
     "data": {
      "text/plain": [
       "<AxesSubplot:title={'center':'Dialect samples distribution'}, xlabel='dialect'>"
      ]
     },
     "execution_count": 7,
     "metadata": {},
     "output_type": "execute_result"
    },
    {
     "data": {
      "image/png": "[encoded data removed]",
      "text/plain": [
       "<Figure size 1080x360 with 1 Axes>"
      ]
     },
     "metadata": {
      "needs_background": "light"
     },
     "output_type": "display_data"
    }
   ],
   "source": [
    "\n",
    "Data_distribution=pd.DataFrame(New_dataset.groupby('dialect').id.nunique())\n",
    "Data_distribution\n",
    "Data_distribution.plot.bar(rot=0,figsize=(15,5),title=\"Dialect samples distribution\")"
   ]
  },
  {
   "cell_type": "markdown",
   "metadata": {},
   "source": [
    "# Consuming dataset from the provided URL\n"
   ]
  },
  {
   "cell_type": "code",
   "execution_count": 8,
   "metadata": {},
   "outputs": [],
   "source": [
    "import requests\n",
    "import json"
   ]
  },
  {
   "cell_type": "code",
   "execution_count": 9,
   "metadata": {},
   "outputs": [],
   "source": [
    "# Creating lists of ONLY 1000 IDs so as to create the JSON object and post it to the URL\n",
    "\n",
    "def divide_chunks(l, n):\n",
    "      \n",
    "    # looping till length l\n",
    "    for i in range(0, len(l), n): \n",
    "        yield l[i:i + n]\n",
    "\n",
    "IDs=list(New_dataset.id)\n",
    "\n",
    "IDs_str=list(map(str, IDs))\n",
    "\n",
    "Lists_of_IDs=list(divide_chunks(IDs_str,1000))"
   ]
  },
  {
   "cell_type": "code",
   "execution_count": 10,
   "metadata": {},
   "outputs": [
    {
     "data": {
      "text/plain": [
       "1000"
      ]
     },
     "execution_count": 10,
     "metadata": {},
     "output_type": "execute_result"
    }
   ],
   "source": [
    "#checking that all of the created lists contains no more than 1000 ID\n",
    "len(Lists_of_IDs[125])"
   ]
  },
  {
   "cell_type": "code",
   "execution_count": 11,
   "metadata": {},
   "outputs": [],
   "source": [
    "from requests.models import Response\n",
    "# Posting the lists of the IDs to the URL and saving the results\n",
    "\n",
    "url = 'https://recruitment.aimtechnologies.co/ai-tasks'\n",
    "\n",
    "results=[]\n",
    "\n",
    "for k in Lists_of_IDs:\n",
    "  data=json.dumps(k)\n",
    "  responses = requests.post(url,data=data)\n",
    "  tweets_dic=(responses.json())\n",
    "  values=list(tweets_dic.values())\n",
    "  results.extend(values)\n",
    "  \n",
    "  "
   ]
  },
  {
   "cell_type": "code",
   "execution_count": 12,
   "metadata": {},
   "outputs": [],
   "source": [
    "New_dataset[\"Content\"]= results"
   ]
  },
  {
   "cell_type": "code",
   "execution_count": 13,
   "metadata": {},
   "outputs": [
    {
     "data": {
      "text/html": [
       "<div>\n",
       "<style scoped>\n",
       "    .dataframe tbody tr th:only-of-type {\n",
       "        vertical-align: middle;\n",
       "    }\n",
       "\n",
       "    .dataframe tbody tr th {\n",
       "        vertical-align: top;\n",
       "    }\n",
       "\n",
       "    .dataframe thead th {\n",
       "        text-align: right;\n",
       "    }\n",
       "</style>\n",
       "<table border=\"1\" class=\"dataframe\">\n",
       "  <thead>\n",
       "    <tr style=\"text-align: right;\">\n",
       "      <th></th>\n",
       "      <th>dialect</th>\n",
       "      <th>id</th>\n",
       "      <th>Content</th>\n",
       "    </tr>\n",
       "  </thead>\n",
       "  <tbody>\n",
       "    <tr>\n",
       "      <th>405609</th>\n",
       "      <td>AE</td>\n",
       "      <td>1042813539512197248</td>\n",
       "      <td>@Bushanain ياخي المدرب أختاره والمدرب دخله وال...</td>\n",
       "    </tr>\n",
       "    <tr>\n",
       "      <th>405610</th>\n",
       "      <td>AE</td>\n",
       "      <td>1043194042832613376</td>\n",
       "      <td>شو اللي قاعد يجري فالنصر يا أخوه ..\\nخسر المبا...</td>\n",
       "    </tr>\n",
       "    <tr>\n",
       "      <th>405611</th>\n",
       "      <td>AE</td>\n",
       "      <td>1043227308470009984</td>\n",
       "      <td>اللي يبحث عن مشكلة الوصل \\n\\nراح يحصلها فالجول...</td>\n",
       "    </tr>\n",
       "    <tr>\n",
       "      <th>405612</th>\n",
       "      <td>AE</td>\n",
       "      <td>1045763660201758848</td>\n",
       "      <td>@Khamis0001 انا مش معترض على تغيير عامر .... ا...</td>\n",
       "    </tr>\n",
       "    <tr>\n",
       "      <th>405613</th>\n",
       "      <td>AE</td>\n",
       "      <td>1045774056476340224</td>\n",
       "      <td>تراجع مخيف في مستوى الحارس الكبير ماجد ناصر .....</td>\n",
       "    </tr>\n",
       "    <tr>\n",
       "      <th>...</th>\n",
       "      <td>...</td>\n",
       "      <td>...</td>\n",
       "      <td>...</td>\n",
       "    </tr>\n",
       "    <tr>\n",
       "      <th>227782</th>\n",
       "      <td>YE</td>\n",
       "      <td>1093289357631475584</td>\n",
       "      <td>@malarab1 الف سلامه عليك وعل رفاقك</td>\n",
       "    </tr>\n",
       "    <tr>\n",
       "      <th>227783</th>\n",
       "      <td>YE</td>\n",
       "      <td>1093831279936790400</td>\n",
       "      <td>@kooora هذا مكتوب عليه اسم ميسي \\n\\nيعني نزااا...</td>\n",
       "    </tr>\n",
       "    <tr>\n",
       "      <th>227784</th>\n",
       "      <td>YE</td>\n",
       "      <td>1095267466048098432</td>\n",
       "      <td>@waleedmutawakil هات ما عندك بدل كلام الإنشاء</td>\n",
       "    </tr>\n",
       "    <tr>\n",
       "      <th>227785</th>\n",
       "      <td>YE</td>\n",
       "      <td>1096095671147511808</td>\n",
       "      <td>جواس جواس جواس جواس جواس جواس جواس جواس جواس ج...</td>\n",
       "    </tr>\n",
       "    <tr>\n",
       "      <th>227786</th>\n",
       "      <td>YE</td>\n",
       "      <td>1096144105950904448</td>\n",
       "      <td>ال الحضرمي \\nمش بعدا ما لنا دخل https://t.co/p...</td>\n",
       "    </tr>\n",
       "  </tbody>\n",
       "</table>\n",
       "<p>165600 rows × 3 columns</p>\n",
       "</div>"
      ],
      "text/plain": [
       "       dialect                   id  \\\n",
       "405609      AE  1042813539512197248   \n",
       "405610      AE  1043194042832613376   \n",
       "405611      AE  1043227308470009984   \n",
       "405612      AE  1045763660201758848   \n",
       "405613      AE  1045774056476340224   \n",
       "...        ...                  ...   \n",
       "227782      YE  1093289357631475584   \n",
       "227783      YE  1093831279936790400   \n",
       "227784      YE  1095267466048098432   \n",
       "227785      YE  1096095671147511808   \n",
       "227786      YE  1096144105950904448   \n",
       "\n",
       "                                                  Content  \n",
       "405609  @Bushanain ياخي المدرب أختاره والمدرب دخله وال...  \n",
       "405610  شو اللي قاعد يجري فالنصر يا أخوه ..\\nخسر المبا...  \n",
       "405611  اللي يبحث عن مشكلة الوصل \\n\\nراح يحصلها فالجول...  \n",
       "405612  @Khamis0001 انا مش معترض على تغيير عامر .... ا...  \n",
       "405613  تراجع مخيف في مستوى الحارس الكبير ماجد ناصر .....  \n",
       "...                                                   ...  \n",
       "227782                 @malarab1 الف سلامه عليك وعل رفاقك  \n",
       "227783  @kooora هذا مكتوب عليه اسم ميسي \\n\\nيعني نزااا...  \n",
       "227784      @waleedmutawakil هات ما عندك بدل كلام الإنشاء  \n",
       "227785  جواس جواس جواس جواس جواس جواس جواس جواس جواس ج...  \n",
       "227786  ال الحضرمي \\nمش بعدا ما لنا دخل https://t.co/p...  \n",
       "\n",
       "[165600 rows x 3 columns]"
      ]
     },
     "execution_count": 13,
     "metadata": {},
     "output_type": "execute_result"
    }
   ],
   "source": [
    "New_dataset"
   ]
  },
  {
   "cell_type": "code",
   "execution_count": 15,
   "metadata": {},
   "outputs": [],
   "source": [
    "New_dataset.to_excel(\"Data.xlsx\")"
   ]
  }
 ],
 "metadata": {
  "kernelspec": {
   "display_name": "Python 3",
   "language": "python",
   "name": "python3"
  },
  "language_info": {
   "codemirror_mode": {
    "name": "ipython",
    "version": 3
   },
   "file_extension": ".py",
   "mimetype": "text/x-python",
   "name": "python",
   "nbconvert_exporter": "python",
   "pygments_lexer": "ipython3",
   "version": "3.8.5"
  }
 },
 "nbformat": 4,
 "nbformat_minor": 4
}
