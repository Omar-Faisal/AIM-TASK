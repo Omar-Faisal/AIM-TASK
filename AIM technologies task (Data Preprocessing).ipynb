{
 "cells": [
  {
   "cell_type": "code",
   "execution_count": 45,
   "metadata": {},
   "outputs": [
    {
     "name": "stdout",
     "output_type": "stream",
     "text": [
      "Requirement already satisfied: pyarabic in c:\\users\\sawa\\anaconda3\\lib\\site-packages (0.6.14)\n",
      "Requirement already satisfied: six>=1.14.0 in c:\\users\\sawa\\anaconda3\\lib\\site-packages (from pyarabic) (1.15.0)\n",
      "Requirement already satisfied: emoji in c:\\users\\sawa\\anaconda3\\lib\\site-packages (1.7.0)\n",
      "Requirement already up-to-date: pandas in c:\\users\\sawa\\anaconda3\\lib\\site-packages (1.4.1)\n",
      "Requirement already satisfied, skipping upgrade: pytz>=2020.1 in c:\\users\\sawa\\anaconda3\\lib\\site-packages (from pandas) (2020.1)\n",
      "Requirement already satisfied, skipping upgrade: numpy>=1.18.5; platform_machine != \"aarch64\" and platform_machine != \"arm64\" and python_version < \"3.10\" in c:\\users\\sawa\\anaconda3\\lib\\site-packages (from pandas) (1.19.5)\n",
      "Requirement already satisfied, skipping upgrade: python-dateutil>=2.8.1 in c:\\users\\sawa\\anaconda3\\lib\\site-packages (from pandas) (2.8.1)\n",
      "Requirement already satisfied, skipping upgrade: six>=1.5 in c:\\users\\sawa\\anaconda3\\lib\\site-packages (from python-dateutil>=2.8.1->pandas) (1.15.0)\n"
     ]
    }
   ],
   "source": [
    "!pip install pyarabic\n",
    "!pip install emoji\n",
    "!pip3 install --upgrade pandas"
   ]
  },
  {
   "cell_type": "code",
   "execution_count": 46,
   "metadata": {},
   "outputs": [],
   "source": [
    "import pyarabic.araby as ar\n",
    "\n",
    "import re , emoji,string\n",
    "\n",
    "import pandas as pd"
   ]
  },
  {
   "cell_type": "markdown",
   "metadata": {},
   "source": [
    "# Data Cleansing and pre-processing"
   ]
  },
  {
   "cell_type": "code",
   "execution_count": 47,
   "metadata": {},
   "outputs": [],
   "source": [
    "# Cleaning function \n",
    "def data_cleaning (text):\n",
    "    text = re.sub(r'^https?:\\/\\/.*[\\r\\n]*', '', text, flags=re.MULTILINE) # Removing all links\n",
    "    text = re.sub(r'^http?:\\/\\/.*[\\r\\n]*', '', text, flags=re.MULTILINE)\n",
    "    text = re.sub(r\"http\\S+\", \"\", text)\n",
    "    text = re.sub(r\"https\\S+\", \"\", text)\n",
    "    text = re.sub(r'\\s+', ' ', text)\n",
    "    text = re.sub(\"(\\s\\d+)\",\"\",text) \n",
    "    text = re.sub(r\"$\\d+\\W+|\\b\\d+\\b|\\W+\\d+$\", \"\", text)\n",
    "    text = re.sub(\"\\d+\", \" \", text)\n",
    "    text = ar.strip_tashkeel(text)\n",
    "    text = ar.strip_tatweel(text)\n",
    "    text = text.replace(\"#\", \" \");\n",
    "    text = text.replace(\"@\", \" \");\n",
    "    text = text.replace(\"_\", \" \");\n",
    "    translator = str.maketrans('', '', string.punctuation)\n",
    "    text = text.translate(translator)\n",
    "    text = emoji.replace_emoji(text,replace=\"\") #removing emojis \n",
    "    text = text.replace(\"آ\", \"ا\")\n",
    "    text = text.replace(\"إ\", \"ا\")\n",
    "    text = text.replace(\"أ\", \"ا\")\n",
    "    text = text.replace(\"ؤ\", \"و\")\n",
    "    text = text.replace(\"ئ\", \"ي\")\n",
    "    text = re.sub(r'[a-zA-Z]', '', text) #removing all english chars\n",
    "    text = re.sub(r'[^\\w\\s]', '', text) #removing all punctuation \n",
    "    return text"
   ]
  },
  {
   "cell_type": "code",
   "execution_count": 48,
   "metadata": {},
   "outputs": [],
   "source": [
    "df= pd.read_csv(\"Data.csv\")"
   ]
  },
  {
   "cell_type": "code",
   "execution_count": 49,
   "metadata": {},
   "outputs": [],
   "source": [
    "df=df.drop([\"Unnamed: 0\",'id'],axis=1)"
   ]
  },
  {
   "cell_type": "code",
   "execution_count": 50,
   "metadata": {},
   "outputs": [
    {
     "data": {
      "text/html": [
       "<div>\n",
       "<style scoped>\n",
       "    .dataframe tbody tr th:only-of-type {\n",
       "        vertical-align: middle;\n",
       "    }\n",
       "\n",
       "    .dataframe tbody tr th {\n",
       "        vertical-align: top;\n",
       "    }\n",
       "\n",
       "    .dataframe thead th {\n",
       "        text-align: right;\n",
       "    }\n",
       "</style>\n",
       "<table border=\"1\" class=\"dataframe\">\n",
       "  <thead>\n",
       "    <tr style=\"text-align: right;\">\n",
       "      <th></th>\n",
       "      <th>dialect</th>\n",
       "      <th>Content</th>\n",
       "      <th>Clean_Content</th>\n",
       "    </tr>\n",
       "  </thead>\n",
       "  <tbody>\n",
       "    <tr>\n",
       "      <th>0</th>\n",
       "      <td>AE</td>\n",
       "      <td>@Bushanain ياخي المدرب أختاره والمدرب دخله وال...</td>\n",
       "      <td>ياخي المدرب اختاره والمدرب دخله والمدرب بارك...</td>\n",
       "    </tr>\n",
       "    <tr>\n",
       "      <th>1</th>\n",
       "      <td>AE</td>\n",
       "      <td>شو اللي قاعد يجري فالنصر يا أخوه ..\\nخسر المبا...</td>\n",
       "      <td>شو اللي قاعد يجري فالنصر يا اخوه  خسر المباراة...</td>\n",
       "    </tr>\n",
       "    <tr>\n",
       "      <th>2</th>\n",
       "      <td>AE</td>\n",
       "      <td>اللي يبحث عن مشكلة الوصل \\n\\nراح يحصلها فالجول...</td>\n",
       "      <td>اللي يبحث عن مشكلة الوصل راح يحصلها فالجولان</td>\n",
       "    </tr>\n",
       "    <tr>\n",
       "      <th>3</th>\n",
       "      <td>AE</td>\n",
       "      <td>@Khamis0001 انا مش معترض على تغيير عامر .... ا...</td>\n",
       "      <td>انا مش معترض على تغيير عامر  اللي دخل مكان ...</td>\n",
       "    </tr>\n",
       "    <tr>\n",
       "      <th>4</th>\n",
       "      <td>AE</td>\n",
       "      <td>تراجع مخيف في مستوى الحارس الكبير ماجد ناصر .....</td>\n",
       "      <td>تراجع مخيف في مستوى الحارس الكبير ماجد ناصر  م...</td>\n",
       "    </tr>\n",
       "    <tr>\n",
       "      <th>...</th>\n",
       "      <td>...</td>\n",
       "      <td>...</td>\n",
       "      <td>...</td>\n",
       "    </tr>\n",
       "    <tr>\n",
       "      <th>165595</th>\n",
       "      <td>YE</td>\n",
       "      <td>@malarab1 الف سلامه عليك وعل رفاقك</td>\n",
       "      <td>الف سلامه عليك وعل رفاقك</td>\n",
       "    </tr>\n",
       "    <tr>\n",
       "      <th>165596</th>\n",
       "      <td>YE</td>\n",
       "      <td>@kooora هذا مكتوب عليه اسم ميسي \\n\\nيعني نزااا...</td>\n",
       "      <td>هذا مكتوب عليه اسم ميسي يعني نزاااااااااال ي...</td>\n",
       "    </tr>\n",
       "    <tr>\n",
       "      <th>165597</th>\n",
       "      <td>YE</td>\n",
       "      <td>@waleedmutawakil هات ما عندك بدل كلام الإنشاء</td>\n",
       "      <td>هات ما عندك بدل كلام الانشاء</td>\n",
       "    </tr>\n",
       "    <tr>\n",
       "      <th>165598</th>\n",
       "      <td>YE</td>\n",
       "      <td>جواس جواس جواس جواس جواس جواس جواس جواس جواس ج...</td>\n",
       "      <td>جواس جواس جواس جواس جواس جواس جواس جواس جواس ج...</td>\n",
       "    </tr>\n",
       "    <tr>\n",
       "      <th>165599</th>\n",
       "      <td>YE</td>\n",
       "      <td>ال الحضرمي \\nمش بعدا ما لنا دخل https://t.co/p...</td>\n",
       "      <td>ال الحضرمي مش بعدا ما لنا دخل</td>\n",
       "    </tr>\n",
       "  </tbody>\n",
       "</table>\n",
       "<p>165600 rows × 3 columns</p>\n",
       "</div>"
      ],
      "text/plain": [
       "       dialect                                            Content  \\\n",
       "0           AE  @Bushanain ياخي المدرب أختاره والمدرب دخله وال...   \n",
       "1           AE  شو اللي قاعد يجري فالنصر يا أخوه ..\\nخسر المبا...   \n",
       "2           AE  اللي يبحث عن مشكلة الوصل \\n\\nراح يحصلها فالجول...   \n",
       "3           AE  @Khamis0001 انا مش معترض على تغيير عامر .... ا...   \n",
       "4           AE  تراجع مخيف في مستوى الحارس الكبير ماجد ناصر .....   \n",
       "...        ...                                                ...   \n",
       "165595      YE                 @malarab1 الف سلامه عليك وعل رفاقك   \n",
       "165596      YE  @kooora هذا مكتوب عليه اسم ميسي \\n\\nيعني نزااا...   \n",
       "165597      YE      @waleedmutawakil هات ما عندك بدل كلام الإنشاء   \n",
       "165598      YE  جواس جواس جواس جواس جواس جواس جواس جواس جواس ج...   \n",
       "165599      YE  ال الحضرمي \\nمش بعدا ما لنا دخل https://t.co/p...   \n",
       "\n",
       "                                            Clean_Content  \n",
       "0         ياخي المدرب اختاره والمدرب دخله والمدرب بارك...  \n",
       "1       شو اللي قاعد يجري فالنصر يا اخوه  خسر المباراة...  \n",
       "2           اللي يبحث عن مشكلة الوصل راح يحصلها فالجولان   \n",
       "3          انا مش معترض على تغيير عامر  اللي دخل مكان ...  \n",
       "4       تراجع مخيف في مستوى الحارس الكبير ماجد ناصر  م...  \n",
       "...                                                   ...  \n",
       "165595                           الف سلامه عليك وعل رفاقك  \n",
       "165596    هذا مكتوب عليه اسم ميسي يعني نزاااااااااال ي...  \n",
       "165597                       هات ما عندك بدل كلام الانشاء  \n",
       "165598  جواس جواس جواس جواس جواس جواس جواس جواس جواس ج...  \n",
       "165599                     ال الحضرمي مش بعدا ما لنا دخل   \n",
       "\n",
       "[165600 rows x 3 columns]"
      ]
     },
     "execution_count": 50,
     "metadata": {},
     "output_type": "execute_result"
    }
   ],
   "source": [
    "df['Clean_Content'] = df['Content'].apply(lambda x: data_cleaning(x))\n",
    "df\n"
   ]
  },
  {
   "cell_type": "code",
   "execution_count": 52,
   "metadata": {},
   "outputs": [],
   "source": [
    "df.to_csv('Clean_Data.csv')"
   ]
  }
 ],
 "metadata": {
  "kernelspec": {
   "display_name": "Python 3",
   "language": "python",
   "name": "python3"
  },
  "language_info": {
   "codemirror_mode": {
    "name": "ipython",
    "version": 3
   },
   "file_extension": ".py",
   "mimetype": "text/x-python",
   "name": "python",
   "nbconvert_exporter": "python",
   "pygments_lexer": "ipython3",
   "version": "3.8.5"
  }
 },
 "nbformat": 4,
 "nbformat_minor": 4
}
